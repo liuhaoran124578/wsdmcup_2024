{
 "cells": [
  {
   "cell_type": "code",
   "execution_count": null,
   "id": "4d48f701-c78e-4b96-b51f-a713391ee7de",
   "metadata": {},
   "outputs": [],
   "source": [
    "import pandas as pd"
   ]
  },
  {
   "cell_type": "code",
   "execution_count": null,
   "id": "8fc83e21-998e-4ebc-a4da-2b57baae9a51",
   "metadata": {},
   "outputs": [],
   "source": [
    "import pickle\n",
    "with open(\"/root/autodl-tmp/LMSYS_BlackPearl-main/data/processed_data/gemma2fold0/train.pkl\", 'rb') as f:\n",
    "    train = pickle.load(f)\n",
    "print(len(train))\n",
    "test = pd.read_csv(\"/root/autodl-tmp/LMSYS_BlackPearl-main/data/wsdm_competition/wsdm_data.csv\")\n",
    "print(len(test))"
   ]
  },
  {
   "cell_type": "code",
   "execution_count": null,
   "id": "9a54d310-6e46-4106-b76b-3c8b8e9f7e8c",
   "metadata": {},
   "outputs": [],
   "source": [
    "test_subset = test[['prompt', 'response_a', 'response_b']]\n",
    "matched_rows = pd.merge(train, test_subset, on=['prompt', 'response_a', 'response_b'], how='inner')\n",
    "# 输出匹配的行数\n",
    "print(f\"Train 中与 Test 完全匹配的行数: {len(matched_rows)}\")"
   ]
  },
  {
   "cell_type": "code",
   "execution_count": null,
   "id": "b4b66b0f-6796-481c-9509-870e6ba54d56",
   "metadata": {},
   "outputs": [],
   "source": [
    "grouped_matched_rows = matched_rows.groupby('prompt', sort=False).apply(lambda x: x)\n",
    "grouped_matched_rows = grouped_matched_rows.reset_index(drop=True)"
   ]
  },
  {
   "cell_type": "code",
   "execution_count": null,
   "id": "4fde4b97-b9f7-4124-bd71-8ac0af098c7f",
   "metadata": {},
   "outputs": [],
   "source": [
    "with open(f\"/root/autodl-tmp/LMSYS_BlackPearl-main/data/processed_data/gemma2fold0/dev.pkl\", 'wb') as f:\n",
    "        pickle.dump(grouped_matched_rows, f)"
   ]
  },
  {
   "cell_type": "code",
   "execution_count": null,
   "id": "95569682-b0f2-40fd-b25f-6b59349fc5bc",
   "metadata": {},
   "outputs": [],
   "source": []
  }
 ],
 "metadata": {
  "kernelspec": {
   "display_name": "Python 3 (ipykernel)",
   "language": "python",
   "name": "python3"
  },
  "language_info": {
   "codemirror_mode": {
    "name": "ipython",
    "version": 3
   },
   "file_extension": ".py",
   "mimetype": "text/x-python",
   "name": "python",
   "nbconvert_exporter": "python",
   "pygments_lexer": "ipython3",
   "version": "3.12.3"
  }
 },
 "nbformat": 4,
 "nbformat_minor": 5
}
